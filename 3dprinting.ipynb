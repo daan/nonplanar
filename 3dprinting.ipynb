{
 "cells": [
  {
   "cell_type": "code",
   "execution_count": null,
   "id": "a1dbf568-286a-4943-b531-79c4b448ea41",
   "metadata": {},
   "outputs": [],
   "source": [
    "# 3D printing in a jupyter notebook\n",
    "# obviously we assume the server is running on the machine with the serial device..."
   ]
  },
  {
   "cell_type": "code",
   "execution_count": 4,
   "id": "64e3dd68-d8b9-4d93-b59b-2230fac4155d",
   "metadata": {},
   "outputs": [
    {
     "name": "stdout",
     "output_type": "stream",
     "text": [
      "COM1 - Communications Port (COM1)\n",
      "COM1 vid:None pid:None Communications Port (COM1)\n",
      "COM3 - 3D Printer powered by RAMBo (COM3)\n",
      "COM3 vid:10161 Ultimachine pid:1 3D Printer powered by RAMBo (COM3)\n",
      "connecting to the einsy\n",
      "['COM3']\n",
      "opening port COM3 with baudrate 250000\n",
      "printer init done\n"
     ]
    }
   ],
   "source": [
    "import time\n",
    "import sys\n",
    "import serial\n",
    "from serial_device import *\n",
    "import math\n",
    "\n",
    "print_ports()\n",
    "\n",
    "print(\"connecting to the einsy\")\n",
    "\n",
    "devices = get_ports_with_vid(10161)\n",
    "print(devices)\n",
    "p = Printer()\n",
    "try:\n",
    "    p.open(devices[-1], baud=250000)\n",
    "    time.sleep(1.0)\n",
    "    while True:\n",
    "        s = p.readline()\n",
    "        if s == None:\n",
    "            print(\"printer init done\")\n",
    "            break\n",
    "        else:\n",
    "            print(s)\n",
    "    p.home()\n",
    "    p.wait_for_ok()\n",
    "except(e):\n",
    "    print(e)\n",
    "\n"
   ]
  },
  {
   "cell_type": "code",
   "execution_count": 6,
   "id": "c3be5df3-a05e-4d8f-9e14-61eff3b7a798",
   "metadata": {},
   "outputs": [],
   "source": [
    "p.move(100, 100, 20, speed=15000)"
   ]
  },
  {
   "cell_type": "code",
   "execution_count": 7,
   "id": "dfe06b1a-9b15-4af5-9a14-270141c7f024",
   "metadata": {},
   "outputs": [],
   "source": [
    "p.move(-100,0,0)"
   ]
  }
 ],
 "metadata": {
  "kernelspec": {
   "display_name": "nonplanar",
   "language": "python",
   "name": "nonplanar"
  },
  "language_info": {
   "codemirror_mode": {
    "name": "ipython",
    "version": 3
   },
   "file_extension": ".py",
   "mimetype": "text/x-python",
   "name": "python",
   "nbconvert_exporter": "python",
   "pygments_lexer": "ipython3",
   "version": "3.11.4"
  }
 },
 "nbformat": 4,
 "nbformat_minor": 5
}
