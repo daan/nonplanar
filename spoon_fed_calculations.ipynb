{
 "cells": [
  {
   "cell_type": "code",
   "execution_count": 18,
   "id": "2fc3f591-4545-4ba3-bb6a-36567f8f4369",
   "metadata": {},
   "outputs": [
    {
     "name": "stdout",
     "output_type": "stream",
     "text": [
      "distance 314.16 expected duration 62.83\n",
      "segment length 0.049867\n",
      "gcodes per second 100.26761414789407\n"
     ]
    }
   ],
   "source": [
    "#\n",
    "import math\n",
    "\n",
    "radius = 50 # mm\n",
    "steps = 6300\n",
    "feedrate = 5 # mm/s\n",
    "\n",
    "distance = 2* radius * math.pi\n",
    "\n",
    "a = feedrate / (distance / steps )\n",
    "\n",
    "print(f\"distance {distance:.2f} expected duration {distance/feedrate:.2f}\")\n",
    "print(f\"segment length {distance / steps:2f}\")\n",
    "print(f\"gcodes per second {a}\")\n",
    "\n"
   ]
  },
  {
   "cell_type": "code",
   "execution_count": 8,
   "id": "6ce536aa-cf2a-4233-b280-a8ca23ac7694",
   "metadata": {},
   "outputs": [
    {
     "data": {
      "text/plain": [
       "66.55932203389831"
      ]
     },
     "execution_count": 8,
     "metadata": {},
     "output_type": "execute_result"
    }
   ],
   "source": [
    "314.16 / 4.72\n",
    "\n"
   ]
  },
  {
   "cell_type": "code",
   "execution_count": null,
   "id": "29b9199d-91f1-469d-bc93-09939d81cacf",
   "metadata": {},
   "outputs": [],
   "source": [
    "## 50 72 4.72\n",
    "## 50 360 4.72\n"
   ]
  },
  {
   "cell_type": "code",
   "execution_count": null,
   "id": "dfb1839b-dfbb-4f8a-b27a-f763f7a30b53",
   "metadata": {},
   "outputs": [],
   "source": []
  }
 ],
 "metadata": {
  "kernelspec": {
   "display_name": "nonplanar",
   "language": "python",
   "name": "nonplanar"
  },
  "language_info": {
   "codemirror_mode": {
    "name": "ipython",
    "version": 3
   },
   "file_extension": ".py",
   "mimetype": "text/x-python",
   "name": "python",
   "nbconvert_exporter": "python",
   "pygments_lexer": "ipython3",
   "version": "3.11.4"
  }
 },
 "nbformat": 4,
 "nbformat_minor": 5
}
