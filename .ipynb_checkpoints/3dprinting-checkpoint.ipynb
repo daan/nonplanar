{
 "cells": [
  {
   "cell_type": "code",
   "execution_count": null,
   "id": "a1dbf568-286a-4943-b531-79c4b448ea41",
   "metadata": {},
   "outputs": [],
   "source": [
    "# 3D printing in a jupyter notebook\n",
    "# obviously we assume the server is running on the machine with the serial device..."
   ]
  },
  {
   "cell_type": "code",
   "execution_count": null,
   "id": "64e3dd68-d8b9-4d93-b59b-2230fac4155d",
   "metadata": {},
   "outputs": [],
   "source": []
  }
 ],
 "metadata": {
  "kernelspec": {
   "display_name": "nonplanar",
   "language": "python",
   "name": "nonplanar"
  },
  "language_info": {
   "codemirror_mode": {
    "name": "ipython",
    "version": 3
   },
   "file_extension": ".py",
   "mimetype": "text/x-python",
   "name": "python",
   "nbconvert_exporter": "python",
   "pygments_lexer": "ipython3",
   "version": "3.11.4"
  }
 },
 "nbformat": 4,
 "nbformat_minor": 5
}
