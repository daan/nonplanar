{
 "cells": [
  {
   "cell_type": "code",
   "execution_count": 2,
   "id": "2fc3f591-4545-4ba3-bb6a-36567f8f4369",
   "metadata": {},
   "outputs": [
    {
     "ename": "SyntaxError",
     "evalue": "unexpected character after line continuation character (3250374254.py, line 6)",
     "output_type": "error",
     "traceback": [
      "\u001b[1;36m  Cell \u001b[1;32mIn[2], line 6\u001b[1;36m\u001b[0m\n\u001b[1;33m    feedrate = \\5 # mm/s\u001b[0m\n\u001b[1;37m                ^\u001b[0m\n\u001b[1;31mSyntaxError\u001b[0m\u001b[1;31m:\u001b[0m unexpected character after line continuation character\n"
     ]
    }
   ],
   "source": [
    "#\n",
    "import math\n",
    "\n",
    "radius = 50 # mm\n",
    "steps = 72\n",
    "feedrate = 5 # mm/s\n",
    "\n",
    "distance = 2* radius * math.pi\n",
    "\n",
    "print(f\"distance {distance} expected duration {distance/feedrate}\")\n",
    "\n"
   ]
  },
  {
   "cell_type": "code",
   "execution_count": null,
   "id": "6ce536aa-cf2a-4233-b280-a8ca23ac7694",
   "metadata": {},
   "outputs": [],
   "source": []
  }
 ],
 "metadata": {
  "kernelspec": {
   "display_name": "nonplanar",
   "language": "python",
   "name": "nonplanar"
  },
  "language_info": {
   "codemirror_mode": {
    "name": "ipython",
    "version": 3
   },
   "file_extension": ".py",
   "mimetype": "text/x-python",
   "name": "python",
   "nbconvert_exporter": "python",
   "pygments_lexer": "ipython3",
   "version": "3.11.4"
  }
 },
 "nbformat": 4,
 "nbformat_minor": 5
}
