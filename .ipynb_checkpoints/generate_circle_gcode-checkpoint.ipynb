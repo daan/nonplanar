{
 "cells": [
  {
   "cell_type": "code",
   "execution_count": 4,
   "id": "28f9ec6b-244b-4469-8952-8aae323ade64",
   "metadata": {},
   "outputs": [],
   "source": [
    "import math"
   ]
  },
  {
   "cell_type": "code",
   "execution_count": 6,
   "id": "b79f5465-2ca3-43e5-8785-cda1ab924b90",
   "metadata": {},
   "outputs": [],
   "source": [
    "radius = 50\n",
    "steps = 3600\n",
    "\n",
    "with open(\"circle.gcode\", \"w\") as f:\n",
    "        for i in range(steps):\n",
    "            x = 100 + radius * math.cos(math.pi * 2 * (i / steps))\n",
    "            y = 100 + radius * math.sin(math.pi * 2 * (i / steps))\n",
    "            f.write(f\"G0 X{x:.2f} Y{y:.2f}\")\n",
    "\n",
    "\n"
   ]
  },
  {
   "cell_type": "code",
   "execution_count": null,
   "id": "a13d0bea-ecc3-4bf2-b8c4-23021459220e",
   "metadata": {},
   "outputs": [],
   "source": []
  }
 ],
 "metadata": {
  "kernelspec": {
   "display_name": "nonplanar",
   "language": "python",
   "name": "nonplanar"
  },
  "language_info": {
   "codemirror_mode": {
    "name": "ipython",
    "version": 3
   },
   "file_extension": ".py",
   "mimetype": "text/x-python",
   "name": "python",
   "nbconvert_exporter": "python",
   "pygments_lexer": "ipython3",
   "version": "3.11.4"
  }
 },
 "nbformat": 4,
 "nbformat_minor": 5
}
